{
 "cells": [
  {
   "cell_type": "markdown",
   "id": "1bd0d436-27bd-4e81-b2d2-e1eb63eaceab",
   "metadata": {},
   "source": [
    "# Import Libraries"
   ]
  },
  {
   "cell_type": "code",
   "execution_count": 1,
   "id": "81037a3a-4c1a-493d-b872-ca000ab08216",
   "metadata": {},
   "outputs": [],
   "source": [
    "import pandas as pd\n",
    "import numpy as np\n",
    "import matplotlib.pyplot as plt\n",
    "import warnings\n",
    "import seaborn as sns\n",
    "from scipy.stats import t, norm\n",
    "import warnings\n",
    "warnings.filterwarnings('ignore')"
   ]
  },
  {
   "cell_type": "markdown",
   "id": "4f35933b-a14c-4367-bdc0-c46c86dd0a29",
   "metadata": {},
   "source": [
    "# Preparing Data"
   ]
  },
  {
   "cell_type": "code",
   "execution_count": 2,
   "id": "8554f081-fcad-4b85-955b-d03effe4067e",
   "metadata": {},
   "outputs": [],
   "source": [
    "df=[1.13, 1.55, 1.43, 0.92, 1.25, 1.36, 1.32, 0.85, 1.07, 1.48, 1.20, 1.33, 1.18, 1.22, 1.29]\n"
   ]
  },
  {
   "cell_type": "code",
   "execution_count": 3,
   "id": "7ffc6a42-c43c-4722-881f-e6670283175b",
   "metadata": {},
   "outputs": [
    {
     "data": {
      "text/plain": [
       "[1.13,\n",
       " 1.55,\n",
       " 1.43,\n",
       " 0.92,\n",
       " 1.25,\n",
       " 1.36,\n",
       " 1.32,\n",
       " 0.85,\n",
       " 1.07,\n",
       " 1.48,\n",
       " 1.2,\n",
       " 1.33,\n",
       " 1.18,\n",
       " 1.22,\n",
       " 1.29]"
      ]
     },
     "execution_count": 3,
     "metadata": {},
     "output_type": "execute_result"
    }
   ],
   "source": [
    "df"
   ]
  },
  {
   "cell_type": "markdown",
   "id": "48251091-e7b8-4267-b5c1-31ffb9aebbdf",
   "metadata": {},
   "source": [
    "# EDA"
   ]
  },
  {
   "cell_type": "code",
   "execution_count": 4,
   "id": "91e9cdda-5d90-4519-8fe8-697beab5ff41",
   "metadata": {},
   "outputs": [
    {
     "data": {
      "text/plain": [
       "1.2386666666666666"
      ]
     },
     "execution_count": 4,
     "metadata": {},
     "output_type": "execute_result"
    }
   ],
   "source": [
    "np.mean(df)"
   ]
  },
  {
   "cell_type": "code",
   "execution_count": 5,
   "id": "78bbd03d-e27b-4a67-b095-46bd15aaa9cf",
   "metadata": {},
   "outputs": [
    {
     "data": {
      "text/plain": [
       "0.18661427836285438"
      ]
     },
     "execution_count": 5,
     "metadata": {},
     "output_type": "execute_result"
    }
   ],
   "source": [
    "np.std(df)"
   ]
  },
  {
   "cell_type": "code",
   "execution_count": 6,
   "id": "9742f12e-359c-423b-ac58-85678c077188",
   "metadata": {},
   "outputs": [
    {
     "data": {
      "text/plain": [
       "15"
      ]
     },
     "execution_count": 6,
     "metadata": {},
     "output_type": "execute_result"
    }
   ],
   "source": [
    "len(df)"
   ]
  },
  {
   "cell_type": "code",
   "execution_count": 7,
   "id": "66945468-500e-4d05-a603-cd568be8642b",
   "metadata": {},
   "outputs": [
    {
     "data": {
      "text/plain": [
       "[1.13,\n",
       " 1.55,\n",
       " 1.43,\n",
       " 0.92,\n",
       " 1.25,\n",
       " 1.36,\n",
       " 1.32,\n",
       " 0.85,\n",
       " 1.07,\n",
       " 1.48,\n",
       " 1.2,\n",
       " 1.33,\n",
       " 1.18,\n",
       " 1.22,\n",
       " 1.29]"
      ]
     },
     "execution_count": 7,
     "metadata": {},
     "output_type": "execute_result"
    }
   ],
   "source": [
    "\n",
    "data = [1.13, 1.55, 1.43, 0.92, 1.25, 1.36, 1.32, 0.85, 1.07, 1.48, 1.20, 1.33, 1.18, 1.22, 1.29]\n",
    "data"
   ]
  },
  {
   "cell_type": "markdown",
   "id": "5ac03950-411d-4b3a-bcab-03611811f09b",
   "metadata": {},
   "source": [
    "# Build 99% interval Using Sample standard Devation"
   ]
  },
  {
   "cell_type": "code",
   "execution_count": 8,
   "id": "935fc684-7fdd-4f62-ae10-58b4ea13ca03",
   "metadata": {},
   "outputs": [
    {
     "name": "stdout",
     "output_type": "stream",
     "text": [
      "1.2386666666666666 0.18661427836285438\n"
     ]
    }
   ],
   "source": [
    "sample_mean = np.mean(df)\n",
    "sample_std = np.std(df)\n",
    "n = len(df)\n",
    "print(sample_mean,sample_std)"
   ]
  },
  {
   "cell_type": "code",
   "execution_count": 9,
   "id": "88f6af74-8f0f-4c2a-8617-86b37b9b6eba",
   "metadata": {},
   "outputs": [],
   "source": [
    "alpha = 0.01  # 99% confidence interval\n",
    "t_critical = t.ppf(1 - alpha / 2, df=n-1)\n",
    "\n",
    "# Margin of error\n",
    "margin_of_error_sample = t_critical * (sample_std / np.sqrt(n))\n",
    "\n",
    "# Confidence interval\n",
    "ci_sample = (sample_mean - margin_of_error_sample, sample_mean + margin_of_error_sample)\n"
   ]
  },
  {
   "cell_type": "markdown",
   "id": "48f998a6-0ab2-42d6-be44-26a5022a50a9",
   "metadata": {},
   "source": [
    "# Confidence Interval Using Known Population Standard Deviation"
   ]
  },
  {
   "cell_type": "code",
   "execution_count": 10,
   "id": "3987d22c-266b-4a4e-a20f-b10da92032b9",
   "metadata": {},
   "outputs": [],
   "source": [
    "# Given population standard deviation\n",
    "pop_std = 0.2\n",
    "\n",
    "# Calculate z-critical value for 99% confidence level\n",
    "z_critical = norm.ppf(1 - alpha / 2)\n",
    "\n",
    "# Margin of error\n",
    "margin_of_error_pop = z_critical * (pop_std / np.sqrt(n))\n",
    "\n",
    "# Confidence interval\n",
    "ci_population = (sample_mean - margin_of_error_pop, sample_mean + margin_of_error_pop)"
   ]
  },
  {
   "cell_type": "code",
   "execution_count": 11,
   "id": "be761be6-3d84-41dd-898e-e9b46d382e56",
   "metadata": {},
   "outputs": [
    {
     "name": "stdout",
     "output_type": "stream",
     "text": [
      "Sample Mean: 1.2386666666666666\n",
      "Sample Standard Deviation: 0.18661427836285438\n",
      "99% Confidence Interval (Sample Standard Deviation): (1.095231668626123, 1.3821016647072102)\n",
      "99% Confidence Interval (Population Standard Deviation): (1.1056514133957607, 1.3716819199375725)\n"
     ]
    }
   ],
   "source": [
    "# Printing the result\n",
    "print(\"Sample Mean:\", sample_mean)\n",
    "print(\"Sample Standard Deviation:\", sample_std)\n",
    "print(\"99% Confidence Interval (Sample Standard Deviation):\", ci_sample)\n",
    "print(\"99% Confidence Interval (Population Standard Deviation):\", ci_population)"
   ]
  },
  {
   "cell_type": "code",
   "execution_count": null,
   "id": "eef3b212-3f3c-48f0-aca5-3182cb887f77",
   "metadata": {},
   "outputs": [],
   "source": []
  }
 ],
 "metadata": {
  "kernelspec": {
   "display_name": "Python 3 (ipykernel)",
   "language": "python",
   "name": "python3"
  },
  "language_info": {
   "codemirror_mode": {
    "name": "ipython",
    "version": 3
   },
   "file_extension": ".py",
   "mimetype": "text/x-python",
   "name": "python",
   "nbconvert_exporter": "python",
   "pygments_lexer": "ipython3",
   "version": "3.12.7"
  }
 },
 "nbformat": 4,
 "nbformat_minor": 5
}
