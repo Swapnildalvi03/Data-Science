{
 "cells": [
  {
   "cell_type": "markdown",
   "id": "3b897db6-6d9a-4d9f-8727-1131662d0d9f",
   "metadata": {},
   "source": [
    "# To check if the number is prime number or not"
   ]
  },
  {
   "cell_type": "code",
   "execution_count": 24,
   "id": "f2617c00-2e8a-47d5-9f0b-6d4c35c47b2c",
   "metadata": {},
   "outputs": [
    {
     "name": "stdin",
     "output_type": "stream",
     "text": [
      "Enter a Number. 6\n"
     ]
    },
    {
     "name": "stdout",
     "output_type": "stream",
     "text": [
      "6 is not a prime number\n"
     ]
    }
   ],
   "source": [
    "num = int(input('Enter a Number.'))\n",
    "\n",
    "if num > 1:\n",
    "    for i in range(2, (num//2)+1):\n",
    "        if (num % i) == 0:\n",
    "            print(num, \"is not a prime number\")\n",
    "            break\n",
    "    else:\n",
    "        print(num, \"is a prime number\")\n",
    "else:\n",
    "    print(num, \"is not a prime number\")"
   ]
  },
  {
   "cell_type": "markdown",
   "id": "1f978785-fa48-43ea-b8b9-7d0559950e15",
   "metadata": {},
   "source": [
    "# Product of Random Numbers"
   ]
  },
  {
   "cell_type": "code",
   "execution_count": 43,
   "id": "8d4e0a5c-2762-4d19-8006-0bd213dcd7ba",
   "metadata": {},
   "outputs": [
    {
     "name": "stdout",
     "output_type": "stream",
     "text": [
      "9 47\n",
      "Multiply this numbers and give the product\n"
     ]
    },
    {
     "name": "stdin",
     "output_type": "stream",
     "text": [
      "what is the multiplication of this two numbers 93\n"
     ]
    },
    {
     "name": "stdout",
     "output_type": "stream",
     "text": [
      "sorry,I is wrong correct ansuer is 423\n"
     ]
    }
   ],
   "source": [
    "import random\n",
    "num1 = random.randint(1, 100)\n",
    "num2 = random.randint(1, 100)\n",
    "\n",
    "print(num1,num2)\n",
    "print('Multiply this numbers and give the product')\n",
    "\n",
    "product=num1*num2\n",
    "\n",
    "user_answer = int(input('what is the multiplication of this two numbers'))\n",
    "\n",
    "if user_answer == product:\n",
    "    print('It is right')\n",
    "else:\n",
    "    print('sorry,I is wrong correct ansuer is', product)"
   ]
  },
  {
   "cell_type": "markdown",
   "id": "6d67366e-930d-4487-b1c5-660e54fb4e8b",
   "metadata": {},
   "source": [
    "# Squares of Even/Odd Numbers"
   ]
  },
  {
   "cell_type": "code",
   "execution_count": 46,
   "id": "0c56d2a8-2833-49a7-b3bc-39983b62cf4a",
   "metadata": {},
   "outputs": [
    {
     "name": "stdout",
     "output_type": "stream",
     "text": [
      "The square of 101 is 10201\n",
      "The square of 103 is 10609\n",
      "The square of 105 is 11025\n",
      "The square of 107 is 11449\n",
      "The square of 109 is 11881\n",
      "The square of 111 is 12321\n",
      "The square of 113 is 12769\n",
      "The square of 115 is 13225\n",
      "The square of 117 is 13689\n",
      "The square of 119 is 14161\n",
      "The square of 121 is 14641\n",
      "The square of 123 is 15129\n",
      "The square of 125 is 15625\n",
      "The square of 127 is 16129\n",
      "The square of 129 is 16641\n",
      "The square of 131 is 17161\n",
      "The square of 133 is 17689\n",
      "The square of 135 is 18225\n",
      "The square of 137 is 18769\n",
      "The square of 139 is 19321\n",
      "The square of 141 is 19881\n",
      "The square of 143 is 20449\n",
      "The square of 145 is 21025\n",
      "The square of 147 is 21609\n",
      "The square of 149 is 22201\n",
      "The square of 151 is 22801\n",
      "The square of 153 is 23409\n",
      "The square of 155 is 24025\n",
      "The square of 157 is 24649\n",
      "The square of 159 is 25281\n",
      "The square of 161 is 25921\n",
      "The square of 163 is 26569\n",
      "The square of 165 is 27225\n",
      "The square of 167 is 27889\n",
      "The square of 169 is 28561\n",
      "The square of 171 is 29241\n",
      "The square of 173 is 29929\n",
      "The square of 175 is 30625\n",
      "The square of 177 is 31329\n",
      "The square of 179 is 32041\n",
      "The square of 181 is 32761\n",
      "The square of 183 is 33489\n",
      "The square of 185 is 34225\n",
      "The square of 187 is 34969\n",
      "The square of 189 is 35721\n",
      "The square of 191 is 36481\n",
      "The square of 193 is 37249\n",
      "The square of 195 is 38025\n",
      "The square of 197 is 38809\n",
      "The square of 199 is 39601\n"
     ]
    }
   ],
   "source": [
    "# for odd nuber\n",
    "for number in range(100, 201):\n",
    "    if number % 2 != 0:\n",
    "        print(f\"The square of {number} is {number**2}\")"
   ]
  },
  {
   "cell_type": "code",
   "execution_count": 54,
   "id": "c05f119d-72c9-48ee-9b1f-23774bfcda01",
   "metadata": {},
   "outputs": [
    {
     "name": "stdout",
     "output_type": "stream",
     "text": [
      "The square of 100 is 10000\n",
      "The square of 102 is 10404\n",
      "The square of 104 is 10816\n",
      "The square of 106 is 11236\n",
      "The square of 108 is 11664\n",
      "The square of 110 is 12100\n",
      "The square of 112 is 12544\n",
      "The square of 114 is 12996\n",
      "The square of 116 is 13456\n",
      "The square of 118 is 13924\n",
      "The square of 120 is 14400\n",
      "The square of 122 is 14884\n",
      "The square of 124 is 15376\n",
      "The square of 126 is 15876\n",
      "The square of 128 is 16384\n",
      "The square of 130 is 16900\n",
      "The square of 132 is 17424\n",
      "The square of 134 is 17956\n",
      "The square of 136 is 18496\n",
      "The square of 138 is 19044\n",
      "The square of 140 is 19600\n",
      "The square of 142 is 20164\n",
      "The square of 144 is 20736\n",
      "The square of 146 is 21316\n",
      "The square of 148 is 21904\n",
      "The square of 150 is 22500\n",
      "The square of 152 is 23104\n",
      "The square of 154 is 23716\n",
      "The square of 156 is 24336\n",
      "The square of 158 is 24964\n",
      "The square of 160 is 25600\n",
      "The square of 162 is 26244\n",
      "The square of 164 is 26896\n",
      "The square of 166 is 27556\n",
      "The square of 168 is 28224\n",
      "The square of 170 is 28900\n",
      "The square of 172 is 29584\n",
      "The square of 174 is 30276\n",
      "The square of 176 is 30976\n",
      "The square of 178 is 31684\n",
      "The square of 180 is 32400\n",
      "The square of 182 is 33124\n",
      "The square of 184 is 33856\n",
      "The square of 186 is 34596\n",
      "The square of 188 is 35344\n",
      "The square of 190 is 36100\n",
      "The square of 192 is 36864\n",
      "The square of 194 is 37636\n",
      "The square of 196 is 38416\n",
      "The square of 198 is 39204\n",
      "The square of 200 is 40000\n"
     ]
    }
   ],
   "source": [
    "# for even\n",
    "for number in range(100, 201):\n",
    "    if number % 2 == 0:\n",
    "        print(f\"The square of {number} is {number**2}\")"
   ]
  },
  {
   "cell_type": "markdown",
   "id": "d63b4c09-b4f7-4c5f-99f2-bd4f7168fff7",
   "metadata": {},
   "source": [
    "# Count Word "
   ]
  },
  {
   "cell_type": "code",
   "execution_count": 82,
   "id": "49cd04f9-a017-4217-bd39-26b9db340bbd",
   "metadata": {},
   "outputs": [
    {
     "name": "stdout",
     "output_type": "stream",
     "text": [
      "'This': 2\n",
      "'is': 1\n",
      "'a': 1\n",
      "'sample': 1\n",
      "'text.': 1\n",
      "'text': 1\n",
      "'will': 1\n",
      "'be': 1\n",
      "'used': 1\n",
      "'to': 1\n",
      "'demonstrate': 1\n",
      "'the': 1\n",
      "'word': 1\n",
      "'counter.': 1\n"
     ]
    }
   ],
   "source": [
    "def count_words(text):\n",
    "    words = text.split()  # Split the text into words\n",
    "    word_count = {}  # Dictionary to store word frequencies\n",
    "    \n",
    "    for word in words:\n",
    "        word_count[word] = word_count.get(word, 0) + 1  # Increment word count\n",
    "    \n",
    "    for word, count in word_count.items():\n",
    "        print(f\"'{word}': {count}\")\n",
    "\n",
    "input_text = input('Enter Text')\n",
    "count_words(input_text)"
   ]
  },
  {
   "cell_type": "markdown",
   "id": "d4de26af-6a3f-4203-b289-300b120f09b0",
   "metadata": {},
   "source": [
    "# Check for Palindrome"
   ]
  },
  {
   "cell_type": "code",
   "execution_count": 88,
   "id": "48e007f9-0a7a-486a-9ed7-1e9d6cc9f551",
   "metadata": {},
   "outputs": [
    {
     "name": "stdin",
     "output_type": "stream",
     "text": [
      "Enter Text racecar\n"
     ]
    },
    {
     "name": "stdout",
     "output_type": "stream",
     "text": [
      "True\n"
     ]
    }
   ],
   "source": [
    "def is_palindrome(input_string):\n",
    "    cleaned_string = ''.join(char.lower() for char in input_string if char.isalnum())\n",
    "    return cleaned_string == cleaned_string[::-1]\n",
    "input_text = input('Enter Text')\n",
    "print(is_palindrome(input_text)) "
   ]
  },
  {
   "cell_type": "code",
   "execution_count": null,
   "id": "17c17654-1540-47db-bf57-fb0562d7ecbf",
   "metadata": {},
   "outputs": [],
   "source": []
  }
 ],
 "metadata": {
  "kernelspec": {
   "display_name": "Python 3 (ipykernel)",
   "language": "python",
   "name": "python3"
  },
  "language_info": {
   "codemirror_mode": {
    "name": "ipython",
    "version": 3
   },
   "file_extension": ".py",
   "mimetype": "text/x-python",
   "name": "python",
   "nbconvert_exporter": "python",
   "pygments_lexer": "ipython3",
   "version": "3.12.7"
  }
 },
 "nbformat": 4,
 "nbformat_minor": 5
}
