{
 "cells": [
  {
   "cell_type": "markdown",
   "id": "691c1123-d97d-4551-bd27-280e5b122469",
   "metadata": {},
   "source": [
    "# Import libraries"
   ]
  },
  {
   "cell_type": "code",
   "execution_count": 1,
   "id": "4f6965ad-73fe-4167-8572-f75b1c99dd4c",
   "metadata": {},
   "outputs": [],
   "source": [
    "import pandas as pd\n",
    "import numpy as np \n",
    "import scipy\n",
    "from scipy.stats import chi2_contingency , chi2"
   ]
  },
  {
   "cell_type": "markdown",
   "id": "598f9485-4a7c-4d8e-ba0a-1d17228a1503",
   "metadata": {},
   "source": [
    "# Organising the Data Into categorical table"
   ]
  },
  {
   "cell_type": "code",
   "execution_count": 2,
   "id": "6c97fe5a-c348-4ec8-9086-b66520a070a3",
   "metadata": {},
   "outputs": [],
   "source": [
    "data = {\n",
    "    \"Satisfaction Level\": [\"Very Satisfied\", \"Satisfied\", \"Neutral\", \"Unsatisfied\", \"Very Unsatisfied\"],\n",
    "    \"Smart Thermostat\": [50, 80, 60, 30, 20],\n",
    "    \"Smart Light\": [70, 100, 90, 50, 50]\n",
    "}\n",
    "df = pd.DataFrame(data)"
   ]
  },
  {
   "cell_type": "code",
   "execution_count": 3,
   "id": "59f940df-2e6f-4ca4-a6da-fbbcf51b3938",
   "metadata": {},
   "outputs": [],
   "source": [
    "# Add total rows and columns\n",
    "\n",
    "df[\"Total\"] = df[\"Smart Thermostat\"] + df[\"Smart Light\"]\n",
    "total_row = df.sum(numeric_only=True)\n",
    "total_row[\"Satisfaction Level\"] = \"Total\"\n",
    "df = pd.concat([df, pd.DataFrame([total_row])], ignore_index=True)"
   ]
  },
  {
   "cell_type": "code",
   "execution_count": 4,
   "id": "1ec4d5bc-6f93-43d3-9f43-f7ec4631f516",
   "metadata": {},
   "outputs": [
    {
     "name": "stdout",
     "output_type": "stream",
     "text": [
      "Contingency Table:\n",
      "  Satisfaction Level  Smart Thermostat  Smart Light  Total\n",
      "0     Very Satisfied                50           70    120\n",
      "1          Satisfied                80          100    180\n",
      "2            Neutral                60           90    150\n",
      "3        Unsatisfied                30           50     80\n",
      "4   Very Unsatisfied                20           50     70\n",
      "5              Total               240          360    600\n"
     ]
    }
   ],
   "source": [
    "# Display the contingency table\n",
    "\n",
    "print(\"Contingency Table:\")\n",
    "print(df)"
   ]
  },
  {
   "cell_type": "code",
   "execution_count": 5,
   "id": "add3cb93-a906-40c9-b657-78942d5b86e1",
   "metadata": {},
   "outputs": [
    {
     "data": {
      "text/html": [
       "<div>\n",
       "<style scoped>\n",
       "    .dataframe tbody tr th:only-of-type {\n",
       "        vertical-align: middle;\n",
       "    }\n",
       "\n",
       "    .dataframe tbody tr th {\n",
       "        vertical-align: top;\n",
       "    }\n",
       "\n",
       "    .dataframe thead th {\n",
       "        text-align: right;\n",
       "    }\n",
       "</style>\n",
       "<table border=\"1\" class=\"dataframe\">\n",
       "  <thead>\n",
       "    <tr style=\"text-align: right;\">\n",
       "      <th></th>\n",
       "      <th>Satisfaction Level</th>\n",
       "      <th>Smart Thermostat</th>\n",
       "      <th>Smart Light</th>\n",
       "      <th>Total</th>\n",
       "    </tr>\n",
       "  </thead>\n",
       "  <tbody>\n",
       "    <tr>\n",
       "      <th>0</th>\n",
       "      <td>Very Satisfied</td>\n",
       "      <td>50</td>\n",
       "      <td>70</td>\n",
       "      <td>120</td>\n",
       "    </tr>\n",
       "    <tr>\n",
       "      <th>1</th>\n",
       "      <td>Satisfied</td>\n",
       "      <td>80</td>\n",
       "      <td>100</td>\n",
       "      <td>180</td>\n",
       "    </tr>\n",
       "    <tr>\n",
       "      <th>2</th>\n",
       "      <td>Neutral</td>\n",
       "      <td>60</td>\n",
       "      <td>90</td>\n",
       "      <td>150</td>\n",
       "    </tr>\n",
       "    <tr>\n",
       "      <th>3</th>\n",
       "      <td>Unsatisfied</td>\n",
       "      <td>30</td>\n",
       "      <td>50</td>\n",
       "      <td>80</td>\n",
       "    </tr>\n",
       "    <tr>\n",
       "      <th>4</th>\n",
       "      <td>Very Unsatisfied</td>\n",
       "      <td>20</td>\n",
       "      <td>50</td>\n",
       "      <td>70</td>\n",
       "    </tr>\n",
       "    <tr>\n",
       "      <th>5</th>\n",
       "      <td>Total</td>\n",
       "      <td>240</td>\n",
       "      <td>360</td>\n",
       "      <td>600</td>\n",
       "    </tr>\n",
       "  </tbody>\n",
       "</table>\n",
       "</div>"
      ],
      "text/plain": [
       "  Satisfaction Level  Smart Thermostat  Smart Light  Total\n",
       "0     Very Satisfied                50           70    120\n",
       "1          Satisfied                80          100    180\n",
       "2            Neutral                60           90    150\n",
       "3        Unsatisfied                30           50     80\n",
       "4   Very Unsatisfied                20           50     70\n",
       "5              Total               240          360    600"
      ]
     },
     "execution_count": 5,
     "metadata": {},
     "output_type": "execute_result"
    }
   ],
   "source": [
    "# Data frame we made by the given information\n",
    "df"
   ]
  },
  {
   "cell_type": "markdown",
   "id": "9dc07f73-ed31-450e-a1b5-fe0c13a49509",
   "metadata": {},
   "source": [
    "# EDA"
   ]
  },
  {
   "cell_type": "code",
   "execution_count": 6,
   "id": "271d02ec-be4d-432c-8526-6f6d7419a381",
   "metadata": {},
   "outputs": [
    {
     "data": {
      "text/plain": [
       "(6, 4)"
      ]
     },
     "execution_count": 6,
     "metadata": {},
     "output_type": "execute_result"
    }
   ],
   "source": [
    "df.shape"
   ]
  },
  {
   "cell_type": "code",
   "execution_count": 7,
   "id": "bf993a50-a224-4ecd-87bb-65579fb53186",
   "metadata": {},
   "outputs": [
    {
     "data": {
      "text/html": [
       "<div>\n",
       "<style scoped>\n",
       "    .dataframe tbody tr th:only-of-type {\n",
       "        vertical-align: middle;\n",
       "    }\n",
       "\n",
       "    .dataframe tbody tr th {\n",
       "        vertical-align: top;\n",
       "    }\n",
       "\n",
       "    .dataframe thead th {\n",
       "        text-align: right;\n",
       "    }\n",
       "</style>\n",
       "<table border=\"1\" class=\"dataframe\">\n",
       "  <thead>\n",
       "    <tr style=\"text-align: right;\">\n",
       "      <th></th>\n",
       "      <th>Smart Thermostat</th>\n",
       "      <th>Smart Light</th>\n",
       "      <th>Total</th>\n",
       "    </tr>\n",
       "  </thead>\n",
       "  <tbody>\n",
       "    <tr>\n",
       "      <th>count</th>\n",
       "      <td>6.000000</td>\n",
       "      <td>6.000000</td>\n",
       "      <td>6.000000</td>\n",
       "    </tr>\n",
       "    <tr>\n",
       "      <th>mean</th>\n",
       "      <td>80.000000</td>\n",
       "      <td>120.000000</td>\n",
       "      <td>200.000000</td>\n",
       "    </tr>\n",
       "    <tr>\n",
       "      <th>std</th>\n",
       "      <td>81.240384</td>\n",
       "      <td>119.331471</td>\n",
       "      <td>200.299775</td>\n",
       "    </tr>\n",
       "    <tr>\n",
       "      <th>min</th>\n",
       "      <td>20.000000</td>\n",
       "      <td>50.000000</td>\n",
       "      <td>70.000000</td>\n",
       "    </tr>\n",
       "    <tr>\n",
       "      <th>25%</th>\n",
       "      <td>35.000000</td>\n",
       "      <td>55.000000</td>\n",
       "      <td>90.000000</td>\n",
       "    </tr>\n",
       "    <tr>\n",
       "      <th>50%</th>\n",
       "      <td>55.000000</td>\n",
       "      <td>80.000000</td>\n",
       "      <td>135.000000</td>\n",
       "    </tr>\n",
       "    <tr>\n",
       "      <th>75%</th>\n",
       "      <td>75.000000</td>\n",
       "      <td>97.500000</td>\n",
       "      <td>172.500000</td>\n",
       "    </tr>\n",
       "    <tr>\n",
       "      <th>max</th>\n",
       "      <td>240.000000</td>\n",
       "      <td>360.000000</td>\n",
       "      <td>600.000000</td>\n",
       "    </tr>\n",
       "  </tbody>\n",
       "</table>\n",
       "</div>"
      ],
      "text/plain": [
       "       Smart Thermostat  Smart Light       Total\n",
       "count          6.000000     6.000000    6.000000\n",
       "mean          80.000000   120.000000  200.000000\n",
       "std           81.240384   119.331471  200.299775\n",
       "min           20.000000    50.000000   70.000000\n",
       "25%           35.000000    55.000000   90.000000\n",
       "50%           55.000000    80.000000  135.000000\n",
       "75%           75.000000    97.500000  172.500000\n",
       "max          240.000000   360.000000  600.000000"
      ]
     },
     "execution_count": 7,
     "metadata": {},
     "output_type": "execute_result"
    }
   ],
   "source": [
    "df.describe()"
   ]
  },
  {
   "cell_type": "code",
   "execution_count": 8,
   "id": "7f38e1d0-db27-4ab9-95d6-8a6c4dc9b5e9",
   "metadata": {},
   "outputs": [
    {
     "data": {
      "text/plain": [
       "Satisfaction Level    0\n",
       "Smart Thermostat      0\n",
       "Smart Light           0\n",
       "Total                 0\n",
       "dtype: int64"
      ]
     },
     "execution_count": 8,
     "metadata": {},
     "output_type": "execute_result"
    }
   ],
   "source": [
    "df.isnull().sum()"
   ]
  },
  {
   "cell_type": "code",
   "execution_count": 9,
   "id": "6fa22500-2eae-4d65-becc-4085d9d22253",
   "metadata": {},
   "outputs": [
    {
     "data": {
      "text/plain": [
       "0"
      ]
     },
     "execution_count": 9,
     "metadata": {},
     "output_type": "execute_result"
    }
   ],
   "source": [
    "df.duplicated().sum()"
   ]
  },
  {
   "cell_type": "markdown",
   "id": "bc89579d-2f82-47f8-9e1f-281cd9ff897d",
   "metadata": {},
   "source": [
    "# chi Square"
   ]
  },
  {
   "cell_type": "markdown",
   "id": "8fcc1f41-b4e0-456e-b0a2-2a2940a15f71",
   "metadata": {},
   "source": [
    "## State the Hypotheses"
   ]
  },
  {
   "cell_type": "code",
   "execution_count": 10,
   "id": "e0a83ff0-3c8e-4ac8-9dd8-6ee4b3e4d89b",
   "metadata": {},
   "outputs": [],
   "source": [
    "# Extracting observed values\n",
    "observed = np.array([\n",
    "    [50, 70],\n",
    "    [80, 100],\n",
    "    [60, 90],\n",
    "    [30, 50],\n",
    "    [20, 50]\n",
    "])"
   ]
  },
  {
   "cell_type": "code",
   "execution_count": 11,
   "id": "8a842a94-0c49-431c-803f-0c7dfc96912a",
   "metadata": {},
   "outputs": [],
   "source": [
    "# Perform Chi-Square Test for independence\n",
    "\n",
    "chi2_stat, p_value, dof, expected = chi2_contingency(observed)"
   ]
  },
  {
   "cell_type": "code",
   "execution_count": 12,
   "id": "a56e783b-26b1-4665-b9e3-8efa99a5df25",
   "metadata": {},
   "outputs": [
    {
     "name": "stdout",
     "output_type": "stream",
     "text": [
      "\n",
      "Chi-Square Test Results:\n",
      "Chi-Square Statistic: 5.638227513227513\n",
      "P-Value: 0.22784371130697179\n",
      "Degrees of Freedom: 4\n",
      "Expected Frequencies:\n",
      "[[ 48.  72.]\n",
      " [ 72. 108.]\n",
      " [ 60.  90.]\n",
      " [ 32.  48.]\n",
      " [ 28.  42.]]\n"
     ]
    }
   ],
   "source": [
    "# Display results of the test\n",
    "\n",
    "print(\"\\nChi-Square Test Results:\")\n",
    "print(f\"Chi-Square Statistic: {chi2_stat}\")\n",
    "print(f\"P-Value: {p_value}\")\n",
    "print(f\"Degrees of Freedom: {dof}\")\n",
    "print(\"Expected Frequencies:\")\n",
    "print(expected)"
   ]
  },
  {
   "cell_type": "markdown",
   "id": "b6c3818a-712e-4e76-834d-04e4a15a1341",
   "metadata": {},
   "source": [
    "# Compute the Chi-Square Statistic:"
   ]
  },
  {
   "cell_type": "code",
   "execution_count": 13,
   "id": "42e1b502-04ac-4ca1-ae2b-69a71415361a",
   "metadata": {},
   "outputs": [
    {
     "name": "stdout",
     "output_type": "stream",
     "text": [
      "Chi-Square Statistic (Manual): 5.638227513227513\n"
     ]
    }
   ],
   "source": [
    "import numpy as np\n",
    "\n",
    "# Contingency table data\n",
    "observed = np.array([[50, 70],\n",
    "                     [80, 100],\n",
    "                     [60, 90],\n",
    "                     [30, 50],\n",
    "                     [20, 50]])\n",
    "\n",
    "# Calculate expected frequencies\n",
    "row_totals = observed.sum(axis=1)\n",
    "col_totals = observed.sum(axis=0)\n",
    "total = observed.sum()\n",
    "\n",
    "expected = np.outer(row_totals, col_totals) / total\n",
    "\n",
    "# Compute Chi-Square statistic\n",
    "chi2 = np.sum((observed - expected)**2 / expected)\n",
    "\n",
    "print(\"Chi-Square Statistic (Manual):\", chi2)"
   ]
  },
  {
   "cell_type": "markdown",
   "id": "e62982cb-3867-42da-814f-434509058661",
   "metadata": {},
   "source": [
    "# Determine the Critical Value"
   ]
  },
  {
   "cell_type": "code",
   "execution_count": 14,
   "id": "8d3a4715-1f96-40e8-bcb3-400f74f4d11a",
   "metadata": {},
   "outputs": [
    {
     "name": "stdout",
     "output_type": "stream",
     "text": [
      "Critical Value: 9.487729036781154\n"
     ]
    }
   ],
   "source": [
    "from scipy.stats import chi2\n",
    "\n",
    "alpha = 0.05\n",
    "df = 4\n",
    "\n",
    "critical_value = chi2.ppf(1 - alpha,df)\n",
    "\n",
    "print(\"Critical Value:\", critical_value)"
   ]
  },
  {
   "cell_type": "markdown",
   "id": "264beb14-7793-4330-be04-290872874aa4",
   "metadata": {},
   "source": [
    "# Make a Decision"
   ]
  },
  {
   "cell_type": "code",
   "execution_count": 15,
   "id": "aa556cfd-9a78-4ee7-9f12-6fcdd1a55e33",
   "metadata": {},
   "outputs": [
    {
     "name": "stdout",
     "output_type": "stream",
     "text": [
      "Null Hypothesis (H0): The mean weekly operating cost is equal to the theoretical model's prediction.\n",
      "Alternative Hypothesis (H1): The mean weekly operating cost is greater than the theoretical model's prediction.\n",
      "Reject the null hypothesis. There is a significant association between device type and satisfaction level.\n"
     ]
    }
   ],
   "source": [
    "# Chi-Square statistic from earlier calculation\n",
    "chi2_statistic = 28.64297419895143  # Replace with your calculated Chi-Square statistic\n",
    "\n",
    "# Critical value from earlier calculation\n",
    "critical_value = 9.487729036781154  # Replace with your calculated critical value\n",
    "\n",
    "# Significance level (alpha)\n",
    "alpha = 0.05\n",
    "\n",
    "# State the hypotheses\n",
    "print(\"Null Hypothesis (H0): The mean weekly operating cost is equal to the theoretical model's prediction.\")\n",
    "print(\"Alternative Hypothesis (H1): The mean weekly operating cost is greater than the theoretical model's prediction.\")\n",
    "\n",
    "\n",
    "# Make a decision\n",
    "if chi2_statistic > critical_value:\n",
    "    print(\"Reject the null hypothesis. There is a significant association between device type and satisfaction level.\")\n",
    "else:\n",
    "    print(\"Fail to reject the null hypothesis. There is no significant association between device type and satisfaction level.\")"
   ]
  },
  {
   "cell_type": "markdown",
   "id": "7052766d-92cf-4f2b-a946-bf3bb547de8b",
   "metadata": {},
   "source": [
    "## conclusion\n",
    "- After performing the Chi-Square test for independence, we found that the Chi-Square statistic (𝜒2=4.629χ2=4.629) is less than the critical - - value(9.4889.488) at the 0.05 significance level.\n",
    "\n",
    "- Thus, we fail to reject the null hypothesis.\n",
    "\n",
    "- This means there is no significant association between the type of smart home device purchased (Smart Thermostat or Smart Light) and the customer satisfaction level. In other words, customer satisfaction does not significantly depend on the type of device purchased."
   ]
  },
  {
   "cell_type": "markdown",
   "id": "9d4ddd98-71db-441d-aa4b-5efd4a4b6b8e",
   "metadata": {},
   "source": [
    "# HYPOTHESIS TESTING"
   ]
  },
  {
   "cell_type": "markdown",
   "id": "e96cd50c-8006-4770-9ac8-518fe9cbaf90",
   "metadata": {},
   "source": [
    "## State the Hypotheses statement"
   ]
  },
  {
   "cell_type": "code",
   "execution_count": 16,
   "id": "1ba36c07-6abb-43b6-9134-ff3f4ac7a72a",
   "metadata": {},
   "outputs": [
    {
     "name": "stdout",
     "output_type": "stream",
     "text": [
      "Null Hypothesis (H0): The mean weekly operating cost is equal to the theoretical model's prediction.\n",
      "Alternative Hypothesis (H1): The mean weekly operating cost is greater than the theoretical model's prediction.\n",
      "Fail to reject the null hypothesis. There is not enough evidence to suggest that the mean weekly operating cost is higher than the theoretical model's prediction.\n"
     ]
    }
   ],
   "source": [
    "from scipy.stats import norm\n",
    "\n",
    "# Given data\n",
    "sample_mean = 3050  # Mean weekly cost observed from the sample of 25 restaurants\n",
    "theoretical_mean = 1000 + 5 * 600  # Theoretical mean weekly cost based on the model\n",
    "sample_size = 25\n",
    "population_mean = 600  # Mean number of units produced in a week\n",
    "population_std = 25  # Standard deviation of number of units produced in a week\n",
    "\n",
    "# Calculate the standard error of the sample mean\n",
    "standard_error = population_std / (sample_size ** 0.5)\n",
    "\n",
    "# Calculate the z-score\n",
    "z_score = (sample_mean - theoretical_mean) / standard_error\n",
    "\n",
    "# Calculate the p-value for the one-tailed test\n",
    "p_value = 1 - norm.cdf(z_score)\n",
    "\n",
    "# Set the significance level\n",
    "alpha = 0.05\n",
    "\n",
    "# State the hypotheses\n",
    "print(\"Null Hypothesis (H0): The mean weekly operating cost is equal to the theoretical model's prediction.\")\n",
    "print(\"Alternative Hypothesis (H1): The mean weekly operating cost is greater than the theoretical model's prediction.\")\n",
    "\n",
    "# Make a decision based on the p-value\n",
    "if p_value < alpha:\n",
    "    print(\"Reject the null hypothesis. There is sufficient evidence to suggest that the mean weekly operating cost is higher than the theoretical model's prediction.\")\n",
    "else:\n",
    "    print(\"Fail to reject the null hypothesis. There is not enough evidence to suggest that the mean weekly operating cost is higher than the theoretical model's prediction.\")"
   ]
  },
  {
   "cell_type": "markdown",
   "id": "df83e018-0e8c-489b-a8c5-b3fdcd03d118",
   "metadata": {},
   "source": [
    "# Calculate the Test Statistic"
   ]
  },
  {
   "cell_type": "markdown",
   "id": "27f44bc7-bf57-4d15-a915-62a1d81fea41",
   "metadata": {},
   "source": [
    "To include calculations for both the test statistic and the critical value, we'll use the formul"
   ]
  },
  {
   "cell_type": "code",
   "execution_count": 17,
   "id": "6e2cff58-bdf2-4ea4-934a-1b03fcec6ea8",
   "metadata": {},
   "outputs": [
    {
     "name": "stdout",
     "output_type": "stream",
     "text": [
      "Test Statistic (t): -38.0\n",
      "Critical Value (t_critical): 1.7108820799094275\n"
     ]
    }
   ],
   "source": [
    "import scipy.stats as stats\n",
    "\n",
    "# Given data\n",
    "sample_mean = 3050  # Sample mean weekly cost\n",
    "theoretical_mean = 1000 + 5 * 600  # Theoretical mean weekly cost based on the model\n",
    "population_std = 5 * 25  # Standard deviation of the population\n",
    "sample_size = 25  # Sample size\n",
    "\n",
    "# Calculate the standard error\n",
    "standard_error = population_std / (sample_size ** 0.5)\n",
    "\n",
    "# Calculate the test statistic (t)\n",
    "t_statistic = (sample_mean - theoretical_mean) / standard_error\n",
    "\n",
    "print(\"Test Statistic (t):\", t_statistic)\n",
    "\n",
    "# Degrees of freedom\n",
    "df = sample_size - 1\n",
    "\n",
    "# Calculate the critical value\n",
    "alpha = 0.05  # Significance level\n",
    "critical_value = stats.t.ppf(1 - alpha, df)\n",
    "\n",
    "print(\"Critical Value (t_critical):\", critical_value)"
   ]
  },
  {
   "cell_type": "markdown",
   "id": "5dc0ff8a-d973-4385-bfc9-09a5967cb0dd",
   "metadata": {},
   "source": [
    "# Determine the Critical Value"
   ]
  },
  {
   "cell_type": "markdown",
   "id": "21c37a42-3a4e-442d-9b76-7c156a9a7df2",
   "metadata": {},
   "source": [
    "The standard normal (Z) distribution table, rather than the t-distribution table, to determine the critical value for a one-tailed test with a significance level (alpha) of 0.05, we can find the critical value corresponding to the cumulative probability of 1 - alpha. we need to find the Z-score that corresponds to a cumulative probability of 0.95. We can do this using Python's scipy.stats.norm module."
   ]
  },
  {
   "cell_type": "code",
   "execution_count": 18,
   "id": "24a02ae4-0dd3-4884-9f4c-ebc24dd8d4fd",
   "metadata": {},
   "outputs": [
    {
     "name": "stdout",
     "output_type": "stream",
     "text": [
      "Critical Value (Z_critical): 1.6448536269514722\n"
     ]
    }
   ],
   "source": [
    "from scipy.stats import norm\n",
    "\n",
    "alpha = 0.05  # Significance level\n",
    "critical_value = norm.ppf(1 - alpha)  # Percent point function (inverse of the cumulative distribution function)\n",
    "\n",
    "print(\"Critical Value (Z_critical):\", critical_value)"
   ]
  },
  {
   "cell_type": "markdown",
   "id": "d4a00fd2-cad1-46f9-a24b-d2b0a9e6e8f6",
   "metadata": {},
   "source": [
    "# Make a Decision"
   ]
  },
  {
   "cell_type": "markdown",
   "id": "cdb0a742-677c-4397-a714-88d21c4b20ec",
   "metadata": {},
   "source": [
    "If the test statistic is greater than the critical value, we reject the null hypothesis. If the test statistic is less than or equal to the critical value, we fail to reject the null hypothesis."
   ]
  },
  {
   "cell_type": "code",
   "execution_count": 19,
   "id": "df921acf-4b00-4dfb-b5b8-3abbf5362ff6",
   "metadata": {},
   "outputs": [
    {
     "name": "stdout",
     "output_type": "stream",
     "text": [
      "Reject the null hypothesis. There is sufficient evidence to suggest that the mean weekly operating cost is higher than the theoretical model's prediction.\n"
     ]
    }
   ],
   "source": [
    "# Test statistic and critical value from previous calculations\n",
    "test_statistic = 2.9  # Replace with your calculated test statistic\n",
    "critical_value = 1.645  # Replace with your calculated critical value\n",
    "\n",
    "# Significance level (alpha)\n",
    "alpha = 0.05\n",
    "\n",
    "# Make a decision\n",
    "if test_statistic > critical_value:\n",
    "    print(\"Reject the null hypothesis. There is sufficient evidence to suggest that the mean weekly operating cost is higher than the theoretical model's prediction.\")\n",
    "else:\n",
    "    print(\"Fail to reject the null hypothesis. There is not enough evidence to suggest that the mean weekly operating cost is higher than the theoretical model's prediction.\")"
   ]
  },
  {
   "cell_type": "markdown",
   "id": "b3e1855a-94aa-4887-ada6-3ae93a86d8f0",
   "metadata": {},
   "source": [
    "# Conclusion:"
   ]
  },
  {
   "cell_type": "markdown",
   "id": "fdabed17-3e23-4956-92ff-72e01ca60b6d",
   "metadata": {},
   "source": [
    "If we rejected the null hypothesis: There is strong evidence to support the restaurant owners' claim. If we failed to reject the null hypothesis: There is not enough evidence to support the claim."
   ]
  },
  {
   "cell_type": "code",
   "execution_count": null,
   "id": "969e7747-863f-427c-9137-3785a5439918",
   "metadata": {},
   "outputs": [],
   "source": []
  }
 ],
 "metadata": {
  "kernelspec": {
   "display_name": "Python 3 (ipykernel)",
   "language": "python",
   "name": "python3"
  },
  "language_info": {
   "codemirror_mode": {
    "name": "ipython",
    "version": 3
   },
   "file_extension": ".py",
   "mimetype": "text/x-python",
   "name": "python",
   "nbconvert_exporter": "python",
   "pygments_lexer": "ipython3",
   "version": "3.12.7"
  }
 },
 "nbformat": 4,
 "nbformat_minor": 5
}
